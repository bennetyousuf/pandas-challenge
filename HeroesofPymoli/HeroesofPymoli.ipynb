{
 "cells": [
  {
   "cell_type": "code",
   "execution_count": 344,
   "id": "suspended-delta",
   "metadata": {},
   "outputs": [
    {
     "data": {
      "text/html": [
       "<div>\n",
       "<style scoped>\n",
       "    .dataframe tbody tr th:only-of-type {\n",
       "        vertical-align: middle;\n",
       "    }\n",
       "\n",
       "    .dataframe tbody tr th {\n",
       "        vertical-align: top;\n",
       "    }\n",
       "\n",
       "    .dataframe thead th {\n",
       "        text-align: right;\n",
       "    }\n",
       "</style>\n",
       "<table border=\"1\" class=\"dataframe\">\n",
       "  <thead>\n",
       "    <tr style=\"text-align: right;\">\n",
       "      <th></th>\n",
       "      <th>Purchase ID</th>\n",
       "      <th>SN</th>\n",
       "      <th>Age</th>\n",
       "      <th>Gender</th>\n",
       "      <th>Item ID</th>\n",
       "      <th>Item Name</th>\n",
       "      <th>Price</th>\n",
       "    </tr>\n",
       "  </thead>\n",
       "  <tbody>\n",
       "    <tr>\n",
       "      <th>0</th>\n",
       "      <td>0</td>\n",
       "      <td>Lisim78</td>\n",
       "      <td>20</td>\n",
       "      <td>Male</td>\n",
       "      <td>108</td>\n",
       "      <td>Extraction, Quickblade Of Trembling Hands</td>\n",
       "      <td>3.53</td>\n",
       "    </tr>\n",
       "    <tr>\n",
       "      <th>1</th>\n",
       "      <td>1</td>\n",
       "      <td>Lisovynya38</td>\n",
       "      <td>40</td>\n",
       "      <td>Male</td>\n",
       "      <td>143</td>\n",
       "      <td>Frenzied Scimitar</td>\n",
       "      <td>1.56</td>\n",
       "    </tr>\n",
       "    <tr>\n",
       "      <th>2</th>\n",
       "      <td>2</td>\n",
       "      <td>Ithergue48</td>\n",
       "      <td>24</td>\n",
       "      <td>Male</td>\n",
       "      <td>92</td>\n",
       "      <td>Final Critic</td>\n",
       "      <td>4.88</td>\n",
       "    </tr>\n",
       "    <tr>\n",
       "      <th>3</th>\n",
       "      <td>3</td>\n",
       "      <td>Chamassasya86</td>\n",
       "      <td>24</td>\n",
       "      <td>Male</td>\n",
       "      <td>100</td>\n",
       "      <td>Blindscythe</td>\n",
       "      <td>3.27</td>\n",
       "    </tr>\n",
       "    <tr>\n",
       "      <th>4</th>\n",
       "      <td>4</td>\n",
       "      <td>Iskosia90</td>\n",
       "      <td>23</td>\n",
       "      <td>Male</td>\n",
       "      <td>131</td>\n",
       "      <td>Fury</td>\n",
       "      <td>1.44</td>\n",
       "    </tr>\n",
       "    <tr>\n",
       "      <th>...</th>\n",
       "      <td>...</td>\n",
       "      <td>...</td>\n",
       "      <td>...</td>\n",
       "      <td>...</td>\n",
       "      <td>...</td>\n",
       "      <td>...</td>\n",
       "      <td>...</td>\n",
       "    </tr>\n",
       "    <tr>\n",
       "      <th>775</th>\n",
       "      <td>775</td>\n",
       "      <td>Aethedru70</td>\n",
       "      <td>21</td>\n",
       "      <td>Female</td>\n",
       "      <td>60</td>\n",
       "      <td>Wolf</td>\n",
       "      <td>3.54</td>\n",
       "    </tr>\n",
       "    <tr>\n",
       "      <th>776</th>\n",
       "      <td>776</td>\n",
       "      <td>Iral74</td>\n",
       "      <td>21</td>\n",
       "      <td>Male</td>\n",
       "      <td>164</td>\n",
       "      <td>Exiled Doomblade</td>\n",
       "      <td>1.63</td>\n",
       "    </tr>\n",
       "    <tr>\n",
       "      <th>777</th>\n",
       "      <td>777</td>\n",
       "      <td>Yathecal72</td>\n",
       "      <td>20</td>\n",
       "      <td>Male</td>\n",
       "      <td>67</td>\n",
       "      <td>Celeste, Incarnation of the Corrupted</td>\n",
       "      <td>3.46</td>\n",
       "    </tr>\n",
       "    <tr>\n",
       "      <th>778</th>\n",
       "      <td>778</td>\n",
       "      <td>Sisur91</td>\n",
       "      <td>7</td>\n",
       "      <td>Male</td>\n",
       "      <td>92</td>\n",
       "      <td>Final Critic</td>\n",
       "      <td>4.19</td>\n",
       "    </tr>\n",
       "    <tr>\n",
       "      <th>779</th>\n",
       "      <td>779</td>\n",
       "      <td>Ennrian78</td>\n",
       "      <td>24</td>\n",
       "      <td>Male</td>\n",
       "      <td>50</td>\n",
       "      <td>Dawn</td>\n",
       "      <td>4.60</td>\n",
       "    </tr>\n",
       "  </tbody>\n",
       "</table>\n",
       "<p>780 rows × 7 columns</p>\n",
       "</div>"
      ],
      "text/plain": [
       "     Purchase ID             SN  Age  Gender  Item ID  \\\n",
       "0              0        Lisim78   20    Male      108   \n",
       "1              1    Lisovynya38   40    Male      143   \n",
       "2              2     Ithergue48   24    Male       92   \n",
       "3              3  Chamassasya86   24    Male      100   \n",
       "4              4      Iskosia90   23    Male      131   \n",
       "..           ...            ...  ...     ...      ...   \n",
       "775          775     Aethedru70   21  Female       60   \n",
       "776          776         Iral74   21    Male      164   \n",
       "777          777     Yathecal72   20    Male       67   \n",
       "778          778        Sisur91    7    Male       92   \n",
       "779          779      Ennrian78   24    Male       50   \n",
       "\n",
       "                                     Item Name  Price  \n",
       "0    Extraction, Quickblade Of Trembling Hands   3.53  \n",
       "1                            Frenzied Scimitar   1.56  \n",
       "2                                 Final Critic   4.88  \n",
       "3                                  Blindscythe   3.27  \n",
       "4                                         Fury   1.44  \n",
       "..                                         ...    ...  \n",
       "775                                       Wolf   3.54  \n",
       "776                           Exiled Doomblade   1.63  \n",
       "777      Celeste, Incarnation of the Corrupted   3.46  \n",
       "778                               Final Critic   4.19  \n",
       "779                                       Dawn   4.60  \n",
       "\n",
       "[780 rows x 7 columns]"
      ]
     },
     "execution_count": 344,
     "metadata": {},
     "output_type": "execute_result"
    }
   ],
   "source": [
    "# Dependencies and Setup\n",
    "import pandas as pd\n",
    "import numpy as np\n",
    "\n",
    "# File to Load \n",
    "file_to_load = \"/Users/bennetyousuf/Desktop/BCS/pandas-challenge/HeroesofPymoli/02-Homework_04-Pandas_Instructions_HeroesOfPymoli_Resources_purchase_data.csv\"\n",
    "# Read Purchasing File and store into Pandas data frame\n",
    "purchase_data_df = pd.read_csv(file_to_load)\n",
    "\n",
    "#view full data frame\n",
    "purchase_data_df"
   ]
  },
  {
   "cell_type": "code",
   "execution_count": 345,
   "id": "fuzzy-sierra",
   "metadata": {},
   "outputs": [
    {
     "data": {
      "text/plain": [
       "576"
      ]
     },
     "execution_count": 345,
     "metadata": {},
     "output_type": "execute_result"
    }
   ],
   "source": [
    "#find total number of unique players\n",
    "total_players = len(purchase_data_df[\"SN\"].unique())\n",
    "total_players "
   ]
  },
  {
   "cell_type": "code",
   "execution_count": 346,
   "id": "spatial-dependence",
   "metadata": {},
   "outputs": [
    {
     "data": {
      "text/html": [
       "<div>\n",
       "<style scoped>\n",
       "    .dataframe tbody tr th:only-of-type {\n",
       "        vertical-align: middle;\n",
       "    }\n",
       "\n",
       "    .dataframe tbody tr th {\n",
       "        vertical-align: top;\n",
       "    }\n",
       "\n",
       "    .dataframe thead th {\n",
       "        text-align: right;\n",
       "    }\n",
       "</style>\n",
       "<table border=\"1\" class=\"dataframe\">\n",
       "  <thead>\n",
       "    <tr style=\"text-align: right;\">\n",
       "      <th></th>\n",
       "      <th>Total Players</th>\n",
       "    </tr>\n",
       "  </thead>\n",
       "  <tbody>\n",
       "    <tr>\n",
       "      <th>0</th>\n",
       "      <td>576</td>\n",
       "    </tr>\n",
       "  </tbody>\n",
       "</table>\n",
       "</div>"
      ],
      "text/plain": [
       "   Total Players\n",
       "0            576"
      ]
     },
     "execution_count": 346,
     "metadata": {},
     "output_type": "execute_result"
    }
   ],
   "source": [
    "#Display Total Number of Players\n",
    "player_dicts =[{\"Total Players\": total_players}]\n",
    "player_dicts_df = pd.DataFrame(player_dicts)\n",
    "player_dicts_df"
   ]
  },
  {
   "cell_type": "code",
   "execution_count": 347,
   "id": "quiet-suspension",
   "metadata": {},
   "outputs": [
    {
     "data": {
      "text/plain": [
       "179"
      ]
     },
     "execution_count": 347,
     "metadata": {},
     "output_type": "execute_result"
    }
   ],
   "source": [
    "#Purchasing Analysis (Total)\n",
    "# Run basic calculations to obtain number of unique items, average price, number of purchases, total revenue\n",
    "#create data frame for unique number of item\n",
    "\n",
    "unique_items = len(purchase_data_df[\"Item Name\"].unique()) \n",
    "unique_items\n"
   ]
  },
  {
   "cell_type": "code",
   "execution_count": 348,
   "id": "filled-volume",
   "metadata": {},
   "outputs": [
    {
     "data": {
      "text/plain": [
       "3.05"
      ]
     },
     "execution_count": 348,
     "metadata": {},
     "output_type": "execute_result"
    }
   ],
   "source": [
    "#Purchasing Analysis (Total)\n",
    "#create data frame for average number of purchases\n",
    "average_price_rounded = round(purchase_data_df[\"Price\"].mean(),2)\n",
    "average_price = average_price_rounded\n",
    "average_price\n",
    "\n",
    "\n",
    "# average_price_string= average_price_rounded.astype(int)\n",
    "# grades[col] = grades[col].astype(dtype=np.float64)\n",
    "# average_price ='$' + average_price_string\n",
    "# average_price"
   ]
  },
  {
   "cell_type": "code",
   "execution_count": 349,
   "id": "adapted-blind",
   "metadata": {},
   "outputs": [
    {
     "data": {
      "text/plain": [
       "780"
      ]
     },
     "execution_count": 349,
     "metadata": {},
     "output_type": "execute_result"
    }
   ],
   "source": [
    "#Purchasing Analysis (Total)\n",
    "#create data frame for total number of purchases \n",
    "#each purchase id is unique to a single purchase, take the count of unique purchase ids\n",
    "\n",
    "total_number_purchases = len(purchase_data_df[\"Purchase ID\"].unique())\n",
    "total_number_purchases"
   ]
  },
  {
   "cell_type": "code",
   "execution_count": 350,
   "id": "funny-kinase",
   "metadata": {},
   "outputs": [
    {
     "data": {
      "text/plain": [
       "2379.77"
      ]
     },
     "execution_count": 350,
     "metadata": {},
     "output_type": "execute_result"
    }
   ],
   "source": [
    "#Purchasing Analysis (Total)\n",
    "#create data frame for total revenue\n",
    "# total_revenue_float = purchase_data_df[\"Price\"].sum()\n",
    "# total_revenue_string = total_revenue.astype(str)\n",
    "# total_revenue = \"$\" + total_revenue_string\n",
    "# total_revenue \n",
    "\n",
    "total_revenue_float= purchase_data_df[\"Price\"].sum()\n",
    "total_revenue = total_revenue_float\n",
    "total_revenue\n",
    "\n",
    "# df['DataFrame Column'] = df['DataFrame Column'].astype(str)\n",
    "# total_revenue"
   ]
  },
  {
   "cell_type": "code",
   "execution_count": 351,
   "id": "overall-schema",
   "metadata": {},
   "outputs": [
    {
     "data": {
      "text/html": [
       "<div>\n",
       "<style scoped>\n",
       "    .dataframe tbody tr th:only-of-type {\n",
       "        vertical-align: middle;\n",
       "    }\n",
       "\n",
       "    .dataframe tbody tr th {\n",
       "        vertical-align: top;\n",
       "    }\n",
       "\n",
       "    .dataframe thead th {\n",
       "        text-align: right;\n",
       "    }\n",
       "</style>\n",
       "<table border=\"1\" class=\"dataframe\">\n",
       "  <thead>\n",
       "    <tr style=\"text-align: right;\">\n",
       "      <th></th>\n",
       "      <th>Number of Unique Items</th>\n",
       "      <th>Average Price</th>\n",
       "      <th>Total Number of Purchases</th>\n",
       "      <th>Total Revenue</th>\n",
       "    </tr>\n",
       "  </thead>\n",
       "  <tbody>\n",
       "    <tr>\n",
       "      <th>0</th>\n",
       "      <td>179</td>\n",
       "      <td>3.05</td>\n",
       "      <td>780</td>\n",
       "      <td>2379.77</td>\n",
       "    </tr>\n",
       "  </tbody>\n",
       "</table>\n",
       "</div>"
      ],
      "text/plain": [
       "   Number of Unique Items  Average Price  Total Number of Purchases  \\\n",
       "0                     179           3.05                        780   \n",
       "\n",
       "   Total Revenue  \n",
       "0        2379.77  "
      ]
     },
     "execution_count": 351,
     "metadata": {},
     "output_type": "execute_result"
    }
   ],
   "source": [
    "#Purchasing Analysis (Total)\n",
    "#Display summary data frame for all values\n",
    "#fill in colums in order using dictionary, list\n",
    "\n",
    "# summary_table_df = pd.DataFrame[unique_items,average_price, total_number_purchases, total_revenue]\n",
    "# summary_table_df \n",
    "\n",
    "summary_table = pd.DataFrame({\n",
    "    \"Number of Unique Items\":[unique_items],\n",
    "    \"Average Price\":[average_price],\n",
    "    \"Total Number of Purchases\":[total_number_purchases],\n",
    "    \"Total Revenue\":[total_revenue]})\n",
    "\n",
    "summary_table\n",
    "\n",
    "\n",
    "# pd.DataFrame({\"Number of Unique Items\": item_count,\n",
    "#                              \"Total Revenue\": [total_purchase_value],\n",
    "#                              \"Number of Purchases\": [purchase_count],\n",
    "#                              \"Average Price\": [average_item_price]})\n",
    "\n",
    "\n",
    "# summary_dicts=[{\"unique_items\", \"average_price\", \"total_number_purchases\", \"total_revenue_df\"}]\n",
    "# summary_table_df = pd.DataFrame(summary_dicts)\n",
    "# summary_table_df\n",
    "\n",
    "# #Display Total Number of Players\n",
    "# player_dicts =[{\"Total Players\": \"576\"}]\n",
    "# player_dicts_df = pd.DataFrame(player_dicts)\n",
    "#c# player_dicts_df\n"
   ]
  },
  {
   "cell_type": "code",
   "execution_count": 368,
   "id": "fatty-folder",
   "metadata": {},
   "outputs": [
    {
     "data": {
      "text/plain": [
       "Male                     484\n",
       "Female                    81\n",
       "Other / Non-Disclosed     11\n",
       "Name: Gender, dtype: int64"
      ]
     },
     "execution_count": 368,
     "metadata": {},
     "output_type": "execute_result"
    }
   ],
   "source": [
    "#Gender Demographics\n",
    "#create a new data frame player_data to show total . Use loc to return just the columns \"Gender\" \"SN\", \"Age from the purchase_data_df\n",
    "#drop duplicate values in player_data data frame\n",
    "#create a new data frame gender_totals_df that takes a value count of the occurances of each value in the \"Gender\" column of the player_data data frame of \"Male/Fema with a value count of just player information. Use loc to return the columns \"Gender\", \"SN\", \"Age\" from the original purchase_data_df, drop duplicates, and then do a value count of the new player_data_df to count the occurances of each value (Male/Female/Other) in the \"Gender\" column\n",
    "\n",
    "player_data = purchase_data_df.loc[:, [\"Gender\", \"SN\", \"Age\"]]\n",
    "player_data = player_data.drop_duplicates()\n",
    "gender_totals = player_data[\"Gender\"].value_counts()\n",
    "gender_totals"
   ]
  },
  {
   "cell_type": "code",
   "execution_count": 369,
   "id": "incorporate-portuguese",
   "metadata": {},
   "outputs": [
    {
     "data": {
      "text/html": [
       "<div>\n",
       "<style scoped>\n",
       "    .dataframe tbody tr th:only-of-type {\n",
       "        vertical-align: middle;\n",
       "    }\n",
       "\n",
       "    .dataframe tbody tr th {\n",
       "        vertical-align: top;\n",
       "    }\n",
       "\n",
       "    .dataframe thead th {\n",
       "        text-align: right;\n",
       "    }\n",
       "</style>\n",
       "<table border=\"1\" class=\"dataframe\">\n",
       "  <thead>\n",
       "    <tr style=\"text-align: right;\">\n",
       "      <th></th>\n",
       "      <th>Total Count</th>\n",
       "    </tr>\n",
       "  </thead>\n",
       "  <tbody>\n",
       "    <tr>\n",
       "      <th>Male</th>\n",
       "      <td>84.03</td>\n",
       "    </tr>\n",
       "    <tr>\n",
       "      <th>Female</th>\n",
       "      <td>14.06</td>\n",
       "    </tr>\n",
       "    <tr>\n",
       "      <th>Other / Non-Disclosed</th>\n",
       "      <td>1.91</td>\n",
       "    </tr>\n",
       "  </tbody>\n",
       "</table>\n",
       "</div>"
      ],
      "text/plain": [
       "                       Total Count\n",
       "Male                         84.03\n",
       "Female                       14.06\n",
       "Other / Non-Disclosed         1.91"
      ]
     },
     "execution_count": 369,
     "metadata": {},
     "output_type": "execute_result"
    }
   ],
   "source": [
    "#Gender Demographics\n",
    "#create a new data frame gender_percentages to show total percentages of each gender. Values in gender_percentages are = gender_totals_df divided by total_players df created earlier * 100\n",
    "\n",
    "gender_percentages_df= gender_totals / total_players *100\n",
    "gender_percentages_df= round(gender_percentages,2)\n",
    "gender_percentages"
   ]
  },
  {
   "cell_type": "code",
   "execution_count": 372,
   "id": "given-saturn",
   "metadata": {},
   "outputs": [
    {
     "data": {
      "text/html": [
       "<div>\n",
       "<style scoped>\n",
       "    .dataframe tbody tr th:only-of-type {\n",
       "        vertical-align: middle;\n",
       "    }\n",
       "\n",
       "    .dataframe tbody tr th {\n",
       "        vertical-align: top;\n",
       "    }\n",
       "\n",
       "    .dataframe thead th {\n",
       "        text-align: right;\n",
       "    }\n",
       "</style>\n",
       "<table border=\"1\" class=\"dataframe\">\n",
       "  <thead>\n",
       "    <tr style=\"text-align: right;\">\n",
       "      <th></th>\n",
       "      <th>Percentage of Players</th>\n",
       "      <th>Total Count</th>\n",
       "    </tr>\n",
       "  </thead>\n",
       "  <tbody>\n",
       "    <tr>\n",
       "      <th>0</th>\n",
       "      <td>Total Count\n",
       "Male       ...</td>\n",
       "      <td>Male                     484\n",
       "Female           ...</td>\n",
       "    </tr>\n",
       "  </tbody>\n",
       "</table>\n",
       "</div>"
      ],
      "text/plain": [
       "                               Percentage of Players  \\\n",
       "0                         Total Count\n",
       "Male       ...   \n",
       "\n",
       "                                         Total Count  \n",
       "0  Male                     484\n",
       "Female           ...  "
      ]
     },
     "execution_count": 372,
     "metadata": {},
     "output_type": "execute_result"
    }
   ],
   "source": [
    "#Gender Demographics\n",
    "#Display Summary Data Frame Showing Total Count of Gender and Percentages by appending gender_totals_df and percentage_df using dictionary\n",
    "\n",
    "# gender_demographics_df = pd.DataFrame({\"Total Count\": gender_totals,\"Percentage of Players\": gender_percentages}) \n",
    "\n",
    "gender_demographics_df = pd.DataFrame({\"Percentage of Players\": [gender_percentages],\"Total Count\": [gender_totals]})\n",
    "\n",
    "gender_demographics_df"
   ]
  },
  {
   "cell_type": "code",
   "execution_count": 361,
   "id": "bronze-duplicate",
   "metadata": {},
   "outputs": [
    {
     "data": {
      "text/plain": [
       "Gender\n",
       "Female                   113\n",
       "Male                     652\n",
       "Other / Non-Disclosed     15\n",
       "Name: Price, dtype: int64"
      ]
     },
     "execution_count": 361,
     "metadata": {},
     "output_type": "execute_result"
    }
   ],
   "source": [
    "#Purchasing Analysis \n",
    "#Purchase Count Grouped by Gender\n",
    "# Count appearances in Purchase ID column as its the count of all purchases made by each gender\n",
    "\n",
    "purchase_count_group = purchase_data_df.groupby([\"Gender\"]).count()[\"Price\"]\n",
    "purchase_count = purchase_count_group\n",
    "purchase_count"
   ]
  },
  {
   "cell_type": "code",
   "execution_count": 362,
   "id": "metropolitan-trout",
   "metadata": {},
   "outputs": [
    {
     "data": {
      "text/plain": [
       "Gender\n",
       "Female                   3.203009\n",
       "Male                     3.017853\n",
       "Other / Non-Disclosed    3.346000\n",
       "Name: Price, dtype: float64"
      ]
     },
     "execution_count": 362,
     "metadata": {},
     "output_type": "execute_result"
    }
   ],
   "source": [
    "#Purchasing Analysis \n",
    "#Average Purchase Price Grouped by Gender\n",
    "#Average Purchase Price appears in the \"Price\" column as its the average of all prices grouped by gender\n",
    "purchase_average_price = purchase_data_df.groupby([\"Gender\"]).mean()[\"Price\"]\n",
    "purchase_average_price\n"
   ]
  },
  {
   "cell_type": "code",
   "execution_count": 363,
   "id": "smaller-amount",
   "metadata": {},
   "outputs": [
    {
     "data": {
      "text/plain": [
       "Gender\n",
       "Female                    361.94\n",
       "Male                     1967.64\n",
       "Other / Non-Disclosed      50.19\n",
       "Name: Price, dtype: float64"
      ]
     },
     "execution_count": 363,
     "metadata": {},
     "output_type": "execute_result"
    }
   ],
   "source": [
    "#Purchasing Analysis \n",
    "#Total Purchase Value Grouped by Gender\n",
    "#Total Purchase value appears in the \"Price\" column as its the sum of all prices grouped by gender\n",
    "total_purchase = purchase_data_df.groupby([\"Gender\"]).sum()[\"Price\"]\n",
    "total_purchase"
   ]
  },
  {
   "cell_type": "code",
   "execution_count": 358,
   "id": "little-leone",
   "metadata": {},
   "outputs": [],
   "source": [
    "#Purchasing Analysis\n",
    "#Average Total Purchase per Person \n"
   ]
  },
  {
   "cell_type": "code",
   "execution_count": 365,
   "id": "varied-civilian",
   "metadata": {},
   "outputs": [
    {
     "data": {
      "text/html": [
       "<div>\n",
       "<style scoped>\n",
       "    .dataframe tbody tr th:only-of-type {\n",
       "        vertical-align: middle;\n",
       "    }\n",
       "\n",
       "    .dataframe tbody tr th {\n",
       "        vertical-align: top;\n",
       "    }\n",
       "\n",
       "    .dataframe thead th {\n",
       "        text-align: right;\n",
       "    }\n",
       "</style>\n",
       "<table border=\"1\" class=\"dataframe\">\n",
       "  <thead>\n",
       "    <tr style=\"text-align: right;\">\n",
       "      <th></th>\n",
       "      <th>Purchase Count</th>\n",
       "      <th>Average Purchase Price</th>\n",
       "      <th>Total Purchase Price</th>\n",
       "    </tr>\n",
       "    <tr>\n",
       "      <th>Gender</th>\n",
       "      <th></th>\n",
       "      <th></th>\n",
       "      <th></th>\n",
       "    </tr>\n",
       "  </thead>\n",
       "  <tbody>\n",
       "    <tr>\n",
       "      <th>Female</th>\n",
       "      <td>113</td>\n",
       "      <td>3.203009</td>\n",
       "      <td>361.94</td>\n",
       "    </tr>\n",
       "    <tr>\n",
       "      <th>Male</th>\n",
       "      <td>652</td>\n",
       "      <td>3.017853</td>\n",
       "      <td>1967.64</td>\n",
       "    </tr>\n",
       "    <tr>\n",
       "      <th>Other / Non-Disclosed</th>\n",
       "      <td>15</td>\n",
       "      <td>3.346000</td>\n",
       "      <td>50.19</td>\n",
       "    </tr>\n",
       "  </tbody>\n",
       "</table>\n",
       "</div>"
      ],
      "text/plain": [
       "                       Purchase Count  Average Purchase Price  \\\n",
       "Gender                                                          \n",
       "Female                            113                3.203009   \n",
       "Male                              652                3.017853   \n",
       "Other / Non-Disclosed              15                3.346000   \n",
       "\n",
       "                       Total Purchase Price  \n",
       "Gender                                       \n",
       "Female                               361.94  \n",
       "Male                                1967.64  \n",
       "Other / Non-Disclosed                 50.19  "
      ]
     },
     "execution_count": 365,
     "metadata": {},
     "output_type": "execute_result"
    }
   ],
   "source": [
    "#Purchasing Analysis\n",
    "#Summary Table\n",
    "\n",
    "purchasing_analysis = pd.DataFrame({\n",
    "    \"Purchase Count\": purchase_count,\n",
    "    \"Average Purchase Price\":purchase_average_price,\n",
    "    \"Total Purchase Price\":total_purchase})\n",
    "\n",
    "purchasing_analysis"
   ]
  },
  {
   "cell_type": "code",
   "execution_count": 379,
   "id": "vital-minority",
   "metadata": {},
   "outputs": [
    {
     "ename": "ValueError",
     "evalue": "Input array must be 1 dimensional",
     "output_type": "error",
     "traceback": [
      "\u001b[0;31m---------------------------------------------------------------------------\u001b[0m",
      "\u001b[0;31mValueError\u001b[0m                                Traceback (most recent call last)",
      "\u001b[0;32m<ipython-input-379-fa4c825d18f2>\u001b[0m in \u001b[0;36m<module>\u001b[0;34m\u001b[0m\n\u001b[1;32m      5\u001b[0m \u001b[0mbin_name\u001b[0m \u001b[0;34m=\u001b[0m \u001b[0;34m[\u001b[0m\u001b[0;34m\"<10\"\u001b[0m\u001b[0;34m,\u001b[0m \u001b[0;34m\"10-14\"\u001b[0m\u001b[0;34m,\u001b[0m \u001b[0;34m\"15-19\"\u001b[0m\u001b[0;34m,\u001b[0m \u001b[0;34m\"20-24\"\u001b[0m\u001b[0;34m,\u001b[0m \u001b[0;34m\"25-29\"\u001b[0m\u001b[0;34m,\u001b[0m\u001b[0;34m\"30-34\"\u001b[0m\u001b[0;34m,\u001b[0m \u001b[0;34m\"35-39\"\u001b[0m\u001b[0;34m,\u001b[0m \u001b[0;34m\"40+\"\u001b[0m\u001b[0;34m]\u001b[0m\u001b[0;34m\u001b[0m\u001b[0;34m\u001b[0m\u001b[0m\n\u001b[1;32m      6\u001b[0m \u001b[0;34m\u001b[0m\u001b[0m\n\u001b[0;32m----> 7\u001b[0;31m \u001b[0mgender_demographic_df\u001b[0m \u001b[0;34m=\u001b[0m \u001b[0mpd\u001b[0m\u001b[0;34m.\u001b[0m\u001b[0mcut\u001b[0m\u001b[0;34m(\u001b[0m\u001b[0;34m[\u001b[0m\u001b[0mgender_demographics\u001b[0m\u001b[0;34m]\u001b[0m\u001b[0;34m,\u001b[0m \u001b[0mbins\u001b[0m\u001b[0;34m,\u001b[0m \u001b[0mlabels\u001b[0m\u001b[0;34m=\u001b[0m \u001b[0mbin_name\u001b[0m\u001b[0;34m,\u001b[0m \u001b[0minclude_lowest\u001b[0m \u001b[0;34m=\u001b[0m \u001b[0;32mTrue\u001b[0m\u001b[0;34m)\u001b[0m\u001b[0;34m\u001b[0m\u001b[0;34m\u001b[0m\u001b[0m\n\u001b[0m\u001b[1;32m      8\u001b[0m \u001b[0;34m\u001b[0m\u001b[0m\n\u001b[1;32m      9\u001b[0m \u001b[0;34m\u001b[0m\u001b[0m\n",
      "\u001b[0;32m~/opt/anaconda3/lib/python3.8/site-packages/pandas/core/reshape/tile.py\u001b[0m in \u001b[0;36mcut\u001b[0;34m(x, bins, right, labels, retbins, precision, include_lowest, duplicates, ordered)\u001b[0m\n\u001b[1;32m    220\u001b[0m \u001b[0;34m\u001b[0m\u001b[0m\n\u001b[1;32m    221\u001b[0m     \u001b[0moriginal\u001b[0m \u001b[0;34m=\u001b[0m \u001b[0mx\u001b[0m\u001b[0;34m\u001b[0m\u001b[0;34m\u001b[0m\u001b[0m\n\u001b[0;32m--> 222\u001b[0;31m     \u001b[0mx\u001b[0m \u001b[0;34m=\u001b[0m \u001b[0m_preprocess_for_cut\u001b[0m\u001b[0;34m(\u001b[0m\u001b[0mx\u001b[0m\u001b[0;34m)\u001b[0m\u001b[0;34m\u001b[0m\u001b[0;34m\u001b[0m\u001b[0m\n\u001b[0m\u001b[1;32m    223\u001b[0m     \u001b[0mx\u001b[0m\u001b[0;34m,\u001b[0m \u001b[0mdtype\u001b[0m \u001b[0;34m=\u001b[0m \u001b[0m_coerce_to_type\u001b[0m\u001b[0;34m(\u001b[0m\u001b[0mx\u001b[0m\u001b[0;34m)\u001b[0m\u001b[0;34m\u001b[0m\u001b[0;34m\u001b[0m\u001b[0m\n\u001b[1;32m    224\u001b[0m \u001b[0;34m\u001b[0m\u001b[0m\n",
      "\u001b[0;32m~/opt/anaconda3/lib/python3.8/site-packages/pandas/core/reshape/tile.py\u001b[0m in \u001b[0;36m_preprocess_for_cut\u001b[0;34m(x)\u001b[0m\n\u001b[1;32m    576\u001b[0m         \u001b[0mx\u001b[0m \u001b[0;34m=\u001b[0m \u001b[0mnp\u001b[0m\u001b[0;34m.\u001b[0m\u001b[0masarray\u001b[0m\u001b[0;34m(\u001b[0m\u001b[0mx\u001b[0m\u001b[0;34m)\u001b[0m\u001b[0;34m\u001b[0m\u001b[0;34m\u001b[0m\u001b[0m\n\u001b[1;32m    577\u001b[0m     \u001b[0;32mif\u001b[0m \u001b[0mx\u001b[0m\u001b[0;34m.\u001b[0m\u001b[0mndim\u001b[0m \u001b[0;34m!=\u001b[0m \u001b[0;36m1\u001b[0m\u001b[0;34m:\u001b[0m\u001b[0;34m\u001b[0m\u001b[0;34m\u001b[0m\u001b[0m\n\u001b[0;32m--> 578\u001b[0;31m         \u001b[0;32mraise\u001b[0m \u001b[0mValueError\u001b[0m\u001b[0;34m(\u001b[0m\u001b[0;34m\"Input array must be 1 dimensional\"\u001b[0m\u001b[0;34m)\u001b[0m\u001b[0;34m\u001b[0m\u001b[0;34m\u001b[0m\u001b[0m\n\u001b[0m\u001b[1;32m    579\u001b[0m \u001b[0;34m\u001b[0m\u001b[0m\n\u001b[1;32m    580\u001b[0m     \u001b[0;32mreturn\u001b[0m \u001b[0mx\u001b[0m\u001b[0;34m\u001b[0m\u001b[0;34m\u001b[0m\u001b[0m\n",
      "\u001b[0;31mValueError\u001b[0m: Input array must be 1 dimensional"
     ]
    }
   ],
   "source": [
    "# Age Demographics\n",
    "#Create bins in incremenets of 4 years\n",
    "\n",
    "bins = [0, 9.9, 14.9, 19.9, 24.9, 29.9, 34.90, 39.90, 99999]\n",
    "bin_name = [\"<10\", \"10-14\", \"15-19\", \"20-24\", \"25-29\",\"30-34\", \"35-39\", \"40+\"]\n",
    "\n",
    "gender_demographic_df = pd.cut([gender_demographics], bins, labels= bin_name, include_lowest = True)\n",
    "\n",
    "\n",
    "# The below each broken into bins of 4 years (i.e. <10, 10-14, 15-19, etc.)\n",
    "\n",
    "# Purchase Count\n",
    "# Average Purchase Price\n",
    "# Total Purchase Value\n",
    "# Average Purchase Total per Person by Age Group"
   ]
  },
  {
   "cell_type": "code",
   "execution_count": null,
   "id": "deadly-title",
   "metadata": {},
   "outputs": [],
   "source": []
  }
 ],
 "metadata": {
  "kernelspec": {
   "display_name": "Python 3",
   "language": "python",
   "name": "python3"
  },
  "language_info": {
   "codemirror_mode": {
    "name": "ipython",
    "version": 3
   },
   "file_extension": ".py",
   "mimetype": "text/x-python",
   "name": "python",
   "nbconvert_exporter": "python",
   "pygments_lexer": "ipython3",
   "version": "3.8.5"
  }
 },
 "nbformat": 4,
 "nbformat_minor": 5
}
